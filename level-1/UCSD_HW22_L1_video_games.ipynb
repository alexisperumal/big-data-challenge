{
  "nbformat": 4,
  "nbformat_minor": 0,
  "metadata": {
    "colab": {
      "name": "UCSD-HW22-L1-video_games.ipynb",
      "provenance": [],
      "collapsed_sections": [],
      "toc_visible": true
    },
    "kernelspec": {
      "name": "python3",
      "display_name": "Python 3"
    }
  },
  "cells": [
    {
      "cell_type": "markdown",
      "metadata": {
        "id": "psE1cHtbGwT8",
        "colab_type": "text"
      },
      "source": [
        "Alexis Perumal, 5/4/20\n",
        "HW22, Level 1 with help from Kevin Nguyen"
      ]
    },
    {
      "cell_type": "code",
      "metadata": {
        "id": "lEpRMEvHHgC-",
        "colab_type": "code",
        "colab": {}
      },
      "source": [
        "# Install Java, Spark, and Findspark\n",
        "!apt-get install openjdk-8-jdk-headless -qq > /dev/null\n",
        "!wget -q http://www-us.apache.org/dist/spark/spark-2.4.5/spark-2.4.5-bin-hadoop2.7.tgz\n",
        "!tar xf spark-2.4.5-bin-hadoop2.7.tgz\n",
        "!pip install -q findspark\n",
        "\n",
        "# Set Environment Variables\n",
        "import os\n",
        "os.environ[\"JAVA_HOME\"] = \"/usr/lib/jvm/java-8-openjdk-amd64\"\n",
        "os.environ[\"SPARK_HOME\"] = \"/content/spark-2.4.5-bin-hadoop2.7\"\n"
      ],
      "execution_count": 0,
      "outputs": []
    },
    {
      "cell_type": "code",
      "metadata": {
        "id": "qp6P9KovvZTF",
        "colab_type": "code",
        "colab": {}
      },
      "source": [
        "import findspark\n",
        "findspark.init()"
      ],
      "execution_count": 0,
      "outputs": []
    },
    {
      "cell_type": "markdown",
      "metadata": {
        "id": "CNsVhHqQtGEi",
        "colab_type": "text"
      },
      "source": [
        "# New Section"
      ]
    },
    {
      "cell_type": "code",
      "metadata": {
        "id": "aiiGGA8DHqKS",
        "colab_type": "code",
        "outputId": "56adb003-0202-4009-97d1-62a6267020da",
        "colab": {
          "base_uri": "https://localhost:8080/",
          "height": 207
        }
      },
      "source": [
        "!wget https://jdbc.postgresql.org/download/postgresql-42.2.9.jar"
      ],
      "execution_count": 3,
      "outputs": [
        {
          "output_type": "stream",
          "text": [
            "--2020-05-07 01:27:11--  https://jdbc.postgresql.org/download/postgresql-42.2.9.jar\n",
            "Resolving jdbc.postgresql.org (jdbc.postgresql.org)... 72.32.157.228, 2001:4800:3e1:1::228\n",
            "Connecting to jdbc.postgresql.org (jdbc.postgresql.org)|72.32.157.228|:443... connected.\n",
            "HTTP request sent, awaiting response... 200 OK\n",
            "Length: 914037 (893K) [application/java-archive]\n",
            "Saving to: ‘postgresql-42.2.9.jar’\n",
            "\n",
            "postgresql-42.2.9.j 100%[===================>] 892.61K  4.48MB/s    in 0.2s    \n",
            "\n",
            "2020-05-07 01:27:12 (4.48 MB/s) - ‘postgresql-42.2.9.jar’ saved [914037/914037]\n",
            "\n"
          ],
          "name": "stdout"
        }
      ]
    },
    {
      "cell_type": "code",
      "metadata": {
        "id": "oZA8GlnzH4OK",
        "colab_type": "code",
        "colab": {}
      },
      "source": [
        "from pyspark.sql import SparkSession\n",
        "spark = SparkSession.builder.appName(\"CloudETL\").config(\"spark.driver.extraClassPath\",\"/content/postgresql-42.2.9.jar\").getOrCreate()\n"
      ],
      "execution_count": 0,
      "outputs": []
    },
    {
      "cell_type": "code",
      "metadata": {
        "id": "vFp41RvBGaIM",
        "colab_type": "code",
        "outputId": "6ef52ad0-1db2-4577-cc5c-7b1e6113c14e",
        "colab": {
          "base_uri": "https://localhost:8080/",
          "height": 486
        }
      },
      "source": [
        "from pyspark import SparkFiles\n",
        "url = \"https://s3.amazonaws.com/amazon-reviews-pds/tsv/amazon_reviews_us_Video_Games_v1_00.tsv.gz\"\n",
        "spark.sparkContext.addFile(url)\n",
        "video_games_df = spark.read.csv(SparkFiles.get(\"amazon_reviews_us_Video_Games_v1_00.tsv.gz\"), sep=\"\\t\", header=True)\n",
        "video_games_df.show()"
      ],
      "execution_count": 42,
      "outputs": [
        {
          "output_type": "stream",
          "text": [
            "+-----------+-----------+--------------+----------+--------------+--------------------+----------------+-----------+-------------+-----------+----+-----------------+--------------------+--------------------+-----------+\n",
            "|marketplace|customer_id|     review_id|product_id|product_parent|       product_title|product_category|star_rating|helpful_votes|total_votes|vine|verified_purchase|     review_headline|         review_body|review_date|\n",
            "+-----------+-----------+--------------+----------+--------------+--------------------+----------------+-----------+-------------+-----------+----+-----------------+--------------------+--------------------+-----------+\n",
            "|         US|   12039526| RTIS3L2M1F5SM|B001CXYMFS|     737716809|Thrustmaster T-Fl...|     Video Games|          5|            0|          0|   N|                Y|an amazing joysti...|Used this for Eli...| 2015-08-31|\n",
            "|         US|    9636577| R1ZV7R40OLHKD|B00M920ND6|     569686175|Tonsee 6 buttons ...|     Video Games|          5|            0|          0|   N|                Y|Definitely a sile...|Loved it,  I didn...| 2015-08-31|\n",
            "|         US|    2331478|R3BH071QLH8QMC|B0029CSOD2|      98937668|Hidden Mysteries:...|     Video Games|          1|            0|          1|   N|                Y|            One Star|poor quality work...| 2015-08-31|\n",
            "|         US|   52495923|R127K9NTSXA2YH|B00GOOSV98|      23143350|GelTabz Performan...|     Video Games|          3|            0|          0|   N|                Y|good, but could b...|nice, but tend to...| 2015-08-31|\n",
            "|         US|   14533949|R32ZWUXDJPW27Q|B00Y074JOM|     821342511|Zero Suit Samus a...|     Video Games|          4|            0|          0|   N|                Y|   Great but flawed.|Great amiibo, gre...| 2015-08-31|\n",
            "|         US|    2377552|R3AQQ4YUKJWBA6|B002UBI6W6|     328764615|Psyclone Recharge...|     Video Games|          1|            0|          0|   N|                Y|            One Star|The remote consta...| 2015-08-31|\n",
            "|         US|   17521011|R2F0POU5K6F73F|B008XHCLFO|      24234603|Protection for yo...|     Video Games|          5|            0|          0|   N|                Y|              A Must|I have a 2012-201...| 2015-08-31|\n",
            "|         US|   19676307|R3VNR804HYSMR6|B00BRA9R6A|     682267517|   Nerf 3DS XL Armor|     Video Games|          5|            0|          0|   N|                Y|          Five Stars|Perfect, kids lov...| 2015-08-31|\n",
            "|         US|     224068| R3GZTM72WA2QH|B009EPWJLA|     435241890|One Piece: Pirate...|     Video Games|          5|            0|          0|   N|                Y|          Five Stars|            Excelent| 2015-08-31|\n",
            "|         US|   48467989| RNQOY62705W1K|B0000AV7GB|     256572651|Playstation 2 Dan...|     Video Games|          4|            0|          0|   N|                Y|          Four Stars|Slippery but expe...| 2015-08-31|\n",
            "|         US|     106569|R1VTIA3JTYBY02|B00008KTNN|     384411423|Metal Arms: Glitc...|     Video Games|          5|            0|          0|   N|                N|          Five Stars|Love the game. Se...| 2015-08-31|\n",
            "|         US|   48269642|R29DOU8791QZL8|B000A3IA0Y|     472622859|72 Pin Connector ...|     Video Games|          1|            0|          0|   N|                Y| Game will get stuck|Does not fit prop...| 2015-08-31|\n",
            "|         US|   52738710|R15DUT1VIJ9RJZ|B0053BQN34|     577628462|uDraw Gametablet ...|     Video Games|          2|            0|          0|   N|                Y|We have tried it ...|This was way too ...| 2015-08-31|\n",
            "|         US|   10556786|R3IMF2MQ3OU9ZM|B002I0HIMI|     988218515|NBA 2K12(Covers M...|     Video Games|          4|            0|          0|   N|                Y|          Four Stars|Works great good ...| 2015-08-31|\n",
            "|         US|    2963837|R23H79DHOZTYAU|B0081EH12M|     770100932|New Trigger Grips...|     Video Games|          1|            1|          1|   N|                Y|Now i have to buy...|It did not fit th...| 2015-08-31|\n",
            "|         US|   23092109| RIV24EQAIXA4O|B005FMLZQQ|      24647669|Xbox 360 Media Re...|     Video Games|          5|            0|          0|   N|                Y|          Five Stars|perfect lightweig...| 2015-08-31|\n",
            "|         US|   23091728|R3UCNGYDVN24YB|B002BSA388|      33706205|Super Mario Galaxy 2|     Video Games|          5|            0|          0|   N|                Y|          Five Stars|               great| 2015-08-31|\n",
            "|         US|   10712640| RUL4H4XTTN2DY|B00BUSLSAC|     829667834|Nintendo 3DS XL -...|     Video Games|          5|            0|          0|   N|                Y|          Five Stars|Works beautifully...| 2015-08-31|\n",
            "|         US|   17455376|R20JF7Z4DHTNX5|B00KWF38AW|     110680188|Captain Toad:  Tr...|     Video Games|          5|            0|          0|   N|                Y|          Five Stars|Kids loved the ga...| 2015-08-31|\n",
            "|         US|   14754850|R2T1AJ5MFI2260|B00BRQJYA8|     616463426|Lego Batman 2: DC...|     Video Games|          4|            0|          0|   N|                Y|          Four Stars|           Goodngame| 2015-08-31|\n",
            "+-----------+-----------+--------------+----------+--------------+--------------------+----------------+-----------+-------------+-----------+----+-----------------+--------------------+--------------------+-----------+\n",
            "only showing top 20 rows\n",
            "\n"
          ],
          "name": "stdout"
        }
      ]
    },
    {
      "cell_type": "code",
      "metadata": {
        "id": "ID5dfQWtaWQQ",
        "colab_type": "code",
        "colab": {}
      },
      "source": [
        "from pyspark.sql.types import IntegerType\n",
        "video_games_df = video_games_df.withColumn(\"customer_id\", video_games_df[\"customer_id\"].cast(IntegerType()))\n",
        "video_games_df = video_games_df.withColumn(\"product_parent\", video_games_df[\"product_parent\"].cast(IntegerType()))\n",
        "video_games_df = video_games_df.withColumn(\"star_rating\", video_games_df[\"star_rating\"].cast(IntegerType()))\n",
        "video_games_df = video_games_df.withColumn(\"helpful_votes\", video_games_df[\"helpful_votes\"].cast(IntegerType()))\n",
        "video_games_df = video_games_df.withColumn(\"total_votes\", video_games_df[\"total_votes\"].cast(IntegerType()))"
      ],
      "execution_count": 0,
      "outputs": []
    },
    {
      "cell_type": "code",
      "metadata": {
        "id": "vbOPpE8wUksr",
        "colab_type": "code",
        "colab": {
          "base_uri": "https://localhost:8080/",
          "height": 35
        },
        "outputId": "3c3cf2f6-47bd-4960-cbd0-4d79367ba8c0"
      },
      "source": [
        "# Count the number of rows\n",
        "video_games_df.count()"
      ],
      "execution_count": 44,
      "outputs": [
        {
          "output_type": "execute_result",
          "data": {
            "text/plain": [
              "1785997"
            ]
          },
          "metadata": {
            "tags": []
          },
          "execution_count": 44
        }
      ]
    },
    {
      "cell_type": "code",
      "metadata": {
        "id": "5EciW6YzS9nv",
        "colab_type": "code",
        "colab": {}
      },
      "source": [
        "# For development purposes, limit the size of the dataframe so things go quicker!\n",
        "# video_games_df = video_games_df.limit(1000)"
      ],
      "execution_count": 0,
      "outputs": []
    },
    {
      "cell_type": "code",
      "metadata": {
        "id": "FxRXqe9eX_41",
        "colab_type": "code",
        "colab": {
          "base_uri": "https://localhost:8080/",
          "height": 35
        },
        "outputId": "fc3ac5d6-8fd5-488f-c7c9-abe0ef898d9b"
      },
      "source": [
        "# Count the number of rows\n",
        "video_games_df.count()"
      ],
      "execution_count": 46,
      "outputs": [
        {
          "output_type": "execute_result",
          "data": {
            "text/plain": [
              "1000"
            ]
          },
          "metadata": {
            "tags": []
          },
          "execution_count": 46
        }
      ]
    },
    {
      "cell_type": "code",
      "metadata": {
        "id": "d8bSk29cJegL",
        "colab_type": "code",
        "outputId": "c265071a-efe1-4ea7-f33a-e2f8988cdeaf",
        "colab": {
          "base_uri": "https://localhost:8080/",
          "height": 486
        }
      },
      "source": [
        "# Drop null values\n",
        "video_games_df = video_games_df.dropna()\n",
        "video_games_df.show()"
      ],
      "execution_count": 47,
      "outputs": [
        {
          "output_type": "stream",
          "text": [
            "+-----------+-----------+--------------+----------+--------------+--------------------+----------------+-----------+-------------+-----------+----+-----------------+--------------------+--------------------+-----------+\n",
            "|marketplace|customer_id|     review_id|product_id|product_parent|       product_title|product_category|star_rating|helpful_votes|total_votes|vine|verified_purchase|     review_headline|         review_body|review_date|\n",
            "+-----------+-----------+--------------+----------+--------------+--------------------+----------------+-----------+-------------+-----------+----+-----------------+--------------------+--------------------+-----------+\n",
            "|         US|   12039526| RTIS3L2M1F5SM|B001CXYMFS|     737716809|Thrustmaster T-Fl...|     Video Games|          5|            0|          0|   N|                Y|an amazing joysti...|Used this for Eli...| 2015-08-31|\n",
            "|         US|    9636577| R1ZV7R40OLHKD|B00M920ND6|     569686175|Tonsee 6 buttons ...|     Video Games|          5|            0|          0|   N|                Y|Definitely a sile...|Loved it,  I didn...| 2015-08-31|\n",
            "|         US|    2331478|R3BH071QLH8QMC|B0029CSOD2|      98937668|Hidden Mysteries:...|     Video Games|          1|            0|          1|   N|                Y|            One Star|poor quality work...| 2015-08-31|\n",
            "|         US|   52495923|R127K9NTSXA2YH|B00GOOSV98|      23143350|GelTabz Performan...|     Video Games|          3|            0|          0|   N|                Y|good, but could b...|nice, but tend to...| 2015-08-31|\n",
            "|         US|   14533949|R32ZWUXDJPW27Q|B00Y074JOM|     821342511|Zero Suit Samus a...|     Video Games|          4|            0|          0|   N|                Y|   Great but flawed.|Great amiibo, gre...| 2015-08-31|\n",
            "|         US|    2377552|R3AQQ4YUKJWBA6|B002UBI6W6|     328764615|Psyclone Recharge...|     Video Games|          1|            0|          0|   N|                Y|            One Star|The remote consta...| 2015-08-31|\n",
            "|         US|   17521011|R2F0POU5K6F73F|B008XHCLFO|      24234603|Protection for yo...|     Video Games|          5|            0|          0|   N|                Y|              A Must|I have a 2012-201...| 2015-08-31|\n",
            "|         US|   19676307|R3VNR804HYSMR6|B00BRA9R6A|     682267517|   Nerf 3DS XL Armor|     Video Games|          5|            0|          0|   N|                Y|          Five Stars|Perfect, kids lov...| 2015-08-31|\n",
            "|         US|     224068| R3GZTM72WA2QH|B009EPWJLA|     435241890|One Piece: Pirate...|     Video Games|          5|            0|          0|   N|                Y|          Five Stars|            Excelent| 2015-08-31|\n",
            "|         US|   48467989| RNQOY62705W1K|B0000AV7GB|     256572651|Playstation 2 Dan...|     Video Games|          4|            0|          0|   N|                Y|          Four Stars|Slippery but expe...| 2015-08-31|\n",
            "|         US|     106569|R1VTIA3JTYBY02|B00008KTNN|     384411423|Metal Arms: Glitc...|     Video Games|          5|            0|          0|   N|                N|          Five Stars|Love the game. Se...| 2015-08-31|\n",
            "|         US|   48269642|R29DOU8791QZL8|B000A3IA0Y|     472622859|72 Pin Connector ...|     Video Games|          1|            0|          0|   N|                Y| Game will get stuck|Does not fit prop...| 2015-08-31|\n",
            "|         US|   52738710|R15DUT1VIJ9RJZ|B0053BQN34|     577628462|uDraw Gametablet ...|     Video Games|          2|            0|          0|   N|                Y|We have tried it ...|This was way too ...| 2015-08-31|\n",
            "|         US|   10556786|R3IMF2MQ3OU9ZM|B002I0HIMI|     988218515|NBA 2K12(Covers M...|     Video Games|          4|            0|          0|   N|                Y|          Four Stars|Works great good ...| 2015-08-31|\n",
            "|         US|    2963837|R23H79DHOZTYAU|B0081EH12M|     770100932|New Trigger Grips...|     Video Games|          1|            1|          1|   N|                Y|Now i have to buy...|It did not fit th...| 2015-08-31|\n",
            "|         US|   23092109| RIV24EQAIXA4O|B005FMLZQQ|      24647669|Xbox 360 Media Re...|     Video Games|          5|            0|          0|   N|                Y|          Five Stars|perfect lightweig...| 2015-08-31|\n",
            "|         US|   23091728|R3UCNGYDVN24YB|B002BSA388|      33706205|Super Mario Galaxy 2|     Video Games|          5|            0|          0|   N|                Y|          Five Stars|               great| 2015-08-31|\n",
            "|         US|   10712640| RUL4H4XTTN2DY|B00BUSLSAC|     829667834|Nintendo 3DS XL -...|     Video Games|          5|            0|          0|   N|                Y|          Five Stars|Works beautifully...| 2015-08-31|\n",
            "|         US|   17455376|R20JF7Z4DHTNX5|B00KWF38AW|     110680188|Captain Toad:  Tr...|     Video Games|          5|            0|          0|   N|                Y|          Five Stars|Kids loved the ga...| 2015-08-31|\n",
            "|         US|   14754850|R2T1AJ5MFI2260|B00BRQJYA8|     616463426|Lego Batman 2: DC...|     Video Games|          4|            0|          0|   N|                Y|          Four Stars|           Goodngame| 2015-08-31|\n",
            "+-----------+-----------+--------------+----------+--------------+--------------------+----------------+-----------+-------------+-----------+----+-----------------+--------------------+--------------------+-----------+\n",
            "only showing top 20 rows\n",
            "\n"
          ],
          "name": "stdout"
        }
      ]
    },
    {
      "cell_type": "code",
      "metadata": {
        "id": "leOBD2P4JMBW",
        "colab_type": "code",
        "outputId": "01c81b73-9282-4d8d-a48d-5558f6a4338c",
        "colab": {
          "base_uri": "https://localhost:8080/",
          "height": 35
        }
      },
      "source": [
        "# Count the number of rows\n",
        "video_games_df.count()"
      ],
      "execution_count": 48,
      "outputs": [
        {
          "output_type": "execute_result",
          "data": {
            "text/plain": [
              "1000"
            ]
          },
          "metadata": {
            "tags": []
          },
          "execution_count": 48
        }
      ]
    },
    {
      "cell_type": "code",
      "metadata": {
        "id": "4B-N1WlcLy-S",
        "colab_type": "code",
        "outputId": "7a3a6d76-dbaa-4fe9-b1cc-8da571f38ea0",
        "colab": {
          "base_uri": "https://localhost:8080/",
          "height": 504
        }
      },
      "source": [
        "# Drop duplicates\n",
        "video_games_df = video_games_df.dropDuplicates(subset=['product_id'])\n",
        "video_games_df.show()\n",
        "video_games_df.count()"
      ],
      "execution_count": 56,
      "outputs": [
        {
          "output_type": "stream",
          "text": [
            "+-----------+-----------+--------------+----------+--------------+--------------------+----------------+-----------+-------------+-----------+----+-----------------+--------------------+--------------------+-----------+\n",
            "|marketplace|customer_id|     review_id|product_id|product_parent|       product_title|product_category|star_rating|helpful_votes|total_votes|vine|verified_purchase|     review_headline|         review_body|review_date|\n",
            "+-----------+-----------+--------------+----------+--------------+--------------------+----------------+-----------+-------------+-----------+----+-----------------+--------------------+--------------------+-----------+\n",
            "|         US|   39031410| RHT65RU4F5M0M|B000006OWS|     854688290|Riven: The Sequel...|     Video Games|          4|            0|          0|   N|                Y|Great Sequel To Myst|I played this gam...| 2015-08-31|\n",
            "|         US|    5926599|R2TSPNBP6L1TUF|B000006RGS|     232442604|         Tomb Raider|     Video Games|          1|            1|          4|   N|                Y|            One Star|   Disc was cracked.| 2015-08-31|\n",
            "|         US|   48670265|R3OGH35QAB18N8|B00000I1BY|     113884174|Resident Evil: Di...|     Video Games|          5|            0|          0|   N|                Y|Wesker, you're pi...|     Chris, stop it.| 2015-08-31|\n",
            "|         US|    8649864|R2BI6JOZCXO61I|B00000JLQX|     488933896|Barbie Riding Clu...|     Video Games|          1|            0|          1|   N|                Y|  Very disappointed!|The game did not ...| 2015-08-31|\n",
            "|         US|   40727162|R2WWJMFU44E8CO|B00000K4E1|     655946789|       GameShark Pro|     Video Games|          5|            0|          0|   N|                Y|          Five Stars|very picky, but i...| 2015-08-31|\n",
            "|         US|    4592026|R2LR3M8VWN13HH|B00001ZULK|     231531813|          Dark Stone|     Video Games|          4|            0|          0|   N|                Y|               Great|Met my expectatio...| 2015-08-31|\n",
            "|         US|   21140629| RBG8XYUWT0UJ3|B0000296ZM|     825664354|      Game Boy Color|     Video Games|          5|            0|          0|   N|                Y|          Five Stars|Great condition i...| 2015-08-31|\n",
            "|         US|   18475737|R1YU1O5ZCXX2Q4|B00002SVOG|     543826552|Sega Genesis 3 Co...|     Video Games|          5|            0|          0|   N|                Y|          Five Stars|My Sega collectio...| 2015-08-31|\n",
            "|         US|    1965700|R2U7ZPF33TBK00|B000035Y1Q|     502047714|             NBA Jam|     Video Games|          5|            0|          0|   N|                Y|          Five Stars|              Great!| 2015-08-31|\n",
            "|         US|    1965700| R5GX50TOQMGDD|B000035Y38|     947059060|            Star Fox|     Video Games|          5|            0|          0|   N|                Y|          Five Stars|               Great| 2015-08-31|\n",
            "|         US|    1965700|R2NSUSVE5E52YW|B000035Y5P|     544393331|NBA Jam Tournamen...|     Video Games|          5|            0|          0|   N|                Y|          Five Stars|              Great!| 2015-08-31|\n",
            "|         US|   20883964| RUSBXQCNI8Z9Y|B000035Y6N|     455890280|      Chrono Trigger|     Video Games|          5|            0|          0|   N|                Y|          Five Stars|  Great game! Thanks| 2015-08-31|\n",
            "|         US|     429832|R25PVGGC7ON158|B000035YA1|     374599281|       Hydro Thunder|     Video Games|          5|            0|          0|   N|                Y|          Five Stars|                Epic| 2015-08-31|\n",
            "|         US|   15339162|R2V0VUGHA6Y5EL|B00004SA3J|      13948528|Visual Memory Uni...|     Video Games|          5|            0|          0|   N|                Y|          Five Stars|                good| 2015-08-31|\n",
            "|         US|    1965700| R4VFPBBI41BH7|B00004SVNB|     711147184|         Battletoads|     Video Games|          5|            0|          0|   N|                Y|          Five Stars|              Great!| 2015-08-31|\n",
            "|         US|   11876489|R3ENAKI3M6J5GK|B00004SVYQ|     490552623|Nintendo Entertai...|     Video Games|          5|            0|          0|   N|                N|If you've ever bl...|░░░░░DURABLE░░░░░...| 2015-08-31|\n",
            "|         US|   19348351| RV2RYSEUXJVNJ|B00004Y57G|     748922365|    Final Fantasy IX|     Video Games|          5|            0|          0|   N|                Y|          Five Stars|Amazing game! Tru...| 2015-08-31|\n",
            "|         US|    1062391|R1WFO2PCV8JC5J|B00004YRQA|      80961330|PlayStation 2 Mem...|     Video Games|          2|            0|          0|   N|                Y|           Two Stars|only received 1 c...| 2015-08-31|\n",
            "|         US|    9549023|  RSOCTE5UOODX|B00004ZB2I|     456832023|Age of Empires Co...|     Video Games|          5|            0|          0|   N|                Y|Admitting, I'm st...|Package complete,...| 2015-08-31|\n",
            "|         US|   49253116|R2S0DHV9M4EQ9W|B00005B8FZ|     638289521| Super Mario Advance|     Video Games|          5|            0|          0|   N|                Y|          Five Stars|It arrived very q...| 2015-08-31|\n",
            "+-----------+-----------+--------------+----------+--------------+--------------------+----------------+-----------+-------------+-----------+----+-----------------+--------------------+--------------------+-----------+\n",
            "only showing top 20 rows\n",
            "\n"
          ],
          "name": "stdout"
        },
        {
          "output_type": "execute_result",
          "data": {
            "text/plain": [
              "847"
            ]
          },
          "metadata": {
            "tags": []
          },
          "execution_count": 56
        }
      ]
    },
    {
      "cell_type": "markdown",
      "metadata": {
        "id": "WyLvQAYf00KC",
        "colab_type": "text"
      },
      "source": [
        "Note the schema of the four tables:\n",
        "\n",
        "CREATE TABLE review_id_table (\n",
        "  review_id TEXT PRIMARY KEY NOT NULL,\n",
        "  customer_id INTEGER,\n",
        "  product_id TEXT,\n",
        "  product_parent INTEGER,\n",
        "  review_date DATE -- this should be in the formate yyyy-mm-dd\n",
        ");\n",
        "\n",
        "-- This table will contain only unique values\n",
        "CREATE TABLE products (\n",
        "  product_id TEXT PRIMARY KEY NOT NULL UNIQUE,\n",
        "  product_title TEXT\n",
        ");\n",
        "\n",
        "-- Customer table for first data set\n",
        "CREATE TABLE customers (\n",
        "  customer_id INT PRIMARY KEY NOT NULL UNIQUE,\n",
        "  customer_count INT\n",
        ");\n",
        "\n",
        "-- vine table\n",
        "CREATE TABLE vine_table (\n",
        "  review_id TEXT PRIMARY KEY,\n",
        "  star_rating INTEGER,\n",
        "  helpful_votes INTEGER,\n",
        "  total_votes INTEGER,\n",
        "  vine TEXT\n",
        ");\n"
      ]
    },
    {
      "cell_type": "code",
      "metadata": {
        "id": "n_gPG3ZLJk93",
        "colab_type": "code",
        "outputId": "7982a864-a231-411e-f2c5-53e2e3b88be7",
        "colab": {
          "base_uri": "https://localhost:8080/",
          "height": 466
        }
      },
      "source": [
        "# Build the Table 1, in PySpark: review_id_table\n",
        "\n",
        "from pyspark.sql.functions import to_date\n",
        "review_id_df = video_games_df.select([\"review_id\", \"customer_id\", \"product_id\", \"product_parent\", to_date(\"review_date\", 'yyyy-MM-dd').alias(\"review_date\")])\n",
        "review_id_df.show()"
      ],
      "execution_count": 50,
      "outputs": [
        {
          "output_type": "stream",
          "text": [
            "+--------------+-----------+----------+--------------+-----------+\n",
            "|     review_id|customer_id|product_id|product_parent|review_date|\n",
            "+--------------+-----------+----------+--------------+-----------+\n",
            "| RTIS3L2M1F5SM|   12039526|B001CXYMFS|     737716809| 2015-08-31|\n",
            "| R1ZV7R40OLHKD|    9636577|B00M920ND6|     569686175| 2015-08-31|\n",
            "|R3BH071QLH8QMC|    2331478|B0029CSOD2|      98937668| 2015-08-31|\n",
            "|R127K9NTSXA2YH|   52495923|B00GOOSV98|      23143350| 2015-08-31|\n",
            "|R32ZWUXDJPW27Q|   14533949|B00Y074JOM|     821342511| 2015-08-31|\n",
            "|R3AQQ4YUKJWBA6|    2377552|B002UBI6W6|     328764615| 2015-08-31|\n",
            "|R2F0POU5K6F73F|   17521011|B008XHCLFO|      24234603| 2015-08-31|\n",
            "|R3VNR804HYSMR6|   19676307|B00BRA9R6A|     682267517| 2015-08-31|\n",
            "| R3GZTM72WA2QH|     224068|B009EPWJLA|     435241890| 2015-08-31|\n",
            "| RNQOY62705W1K|   48467989|B0000AV7GB|     256572651| 2015-08-31|\n",
            "|R1VTIA3JTYBY02|     106569|B00008KTNN|     384411423| 2015-08-31|\n",
            "|R29DOU8791QZL8|   48269642|B000A3IA0Y|     472622859| 2015-08-31|\n",
            "|R15DUT1VIJ9RJZ|   52738710|B0053BQN34|     577628462| 2015-08-31|\n",
            "|R3IMF2MQ3OU9ZM|   10556786|B002I0HIMI|     988218515| 2015-08-31|\n",
            "|R23H79DHOZTYAU|    2963837|B0081EH12M|     770100932| 2015-08-31|\n",
            "| RIV24EQAIXA4O|   23092109|B005FMLZQQ|      24647669| 2015-08-31|\n",
            "|R3UCNGYDVN24YB|   23091728|B002BSA388|      33706205| 2015-08-31|\n",
            "| RUL4H4XTTN2DY|   10712640|B00BUSLSAC|     829667834| 2015-08-31|\n",
            "|R20JF7Z4DHTNX5|   17455376|B00KWF38AW|     110680188| 2015-08-31|\n",
            "|R2T1AJ5MFI2260|   14754850|B00BRQJYA8|     616463426| 2015-08-31|\n",
            "+--------------+-----------+----------+--------------+-----------+\n",
            "only showing top 20 rows\n",
            "\n"
          ],
          "name": "stdout"
        }
      ]
    },
    {
      "cell_type": "code",
      "metadata": {
        "id": "dNuYrwahKuy8",
        "colab_type": "code",
        "outputId": "f05dae99-a75b-4dcf-c00d-d8d190d38e8d",
        "colab": {
          "base_uri": "https://localhost:8080/",
          "height": 466
        }
      },
      "source": [
        "# Build the Table 2, in PySpark: products table\n",
        "\n",
        "# Extract products table info\n",
        "products_df = video_games_df.select([\"product_id\", \"product_title\"])\n",
        "products_df.show()"
      ],
      "execution_count": 57,
      "outputs": [
        {
          "output_type": "stream",
          "text": [
            "+----------+--------------------+\n",
            "|product_id|       product_title|\n",
            "+----------+--------------------+\n",
            "|B000006OWS|Riven: The Sequel...|\n",
            "|B000006RGS|         Tomb Raider|\n",
            "|B00000I1BY|Resident Evil: Di...|\n",
            "|B00000JLQX|Barbie Riding Clu...|\n",
            "|B00000K4E1|       GameShark Pro|\n",
            "|B00001ZULK|          Dark Stone|\n",
            "|B0000296ZM|      Game Boy Color|\n",
            "|B00002SVOG|Sega Genesis 3 Co...|\n",
            "|B000035Y1Q|             NBA Jam|\n",
            "|B000035Y38|            Star Fox|\n",
            "|B000035Y5P|NBA Jam Tournamen...|\n",
            "|B000035Y6N|      Chrono Trigger|\n",
            "|B000035YA1|       Hydro Thunder|\n",
            "|B00004SA3J|Visual Memory Uni...|\n",
            "|B00004SVNB|         Battletoads|\n",
            "|B00004SVYQ|Nintendo Entertai...|\n",
            "|B00004Y57G|    Final Fantasy IX|\n",
            "|B00004YRQA|PlayStation 2 Mem...|\n",
            "|B00004ZB2I|Age of Empires Co...|\n",
            "|B00005B8FZ| Super Mario Advance|\n",
            "+----------+--------------------+\n",
            "only showing top 20 rows\n",
            "\n"
          ],
          "name": "stdout"
        }
      ]
    },
    {
      "cell_type": "code",
      "metadata": {
        "id": "mH9B6BKmNM94",
        "colab_type": "code",
        "outputId": "37a396fe-6864-4142-bef4-878ae3d410e3",
        "colab": {
          "base_uri": "https://localhost:8080/",
          "height": 466
        }
      },
      "source": [
        "# Build the Table 3, in PySpark: customers table\n",
        "import pyspark.sql.functions as sf\n",
        "\n",
        "customers_df = video_games_df.groupBy(\"customer_id\").agg(sf.count(\"product_id\").alias(\"customer_count\"))\n",
        "customers_df.show()"
      ],
      "execution_count": 59,
      "outputs": [
        {
          "output_type": "stream",
          "text": [
            "+-----------+--------------+\n",
            "|customer_id|customer_count|\n",
            "+-----------+--------------+\n",
            "|   12039526|             1|\n",
            "|    9636577|             1|\n",
            "|    2331478|             3|\n",
            "|   52495923|             1|\n",
            "|   14533949|             5|\n",
            "|    2377552|             1|\n",
            "|   17521011|             1|\n",
            "|   19676307|             1|\n",
            "|     224068|             1|\n",
            "|   48467989|             1|\n",
            "|     106569|             1|\n",
            "|   48269642|             1|\n",
            "|   52738710|             1|\n",
            "|   10556786|             1|\n",
            "|    2963837|             1|\n",
            "|   23092109|             1|\n",
            "|   23091728|             1|\n",
            "|   10712640|            14|\n",
            "|   17455376|             1|\n",
            "|   14754850|             1|\n",
            "+-----------+--------------+\n",
            "only showing top 20 rows\n",
            "\n"
          ],
          "name": "stdout"
        }
      ]
    },
    {
      "cell_type": "code",
      "metadata": {
        "id": "7ObT8B5gNN7o",
        "colab_type": "code",
        "outputId": "9d47f88e-3b13-43e3-f206-bc1ce1f75e6b",
        "colab": {
          "base_uri": "https://localhost:8080/",
          "height": 466
        }
      },
      "source": [
        "# Build the Table 4, in PySpark: vine_table\n",
        "\n",
        "vine_table_df = video_games_df.select([\"review_id\", \"star_rating\", \"helpful_votes\", \"total_votes\",\n",
        "                                       \"vine\"])\n",
        "vine_table_df.show()"
      ],
      "execution_count": 60,
      "outputs": [
        {
          "output_type": "stream",
          "text": [
            "+--------------+-----------+-------------+-----------+----+\n",
            "|     review_id|star_rating|helpful_votes|total_votes|vine|\n",
            "+--------------+-----------+-------------+-----------+----+\n",
            "| RHT65RU4F5M0M|          4|            0|          0|   N|\n",
            "|R2TSPNBP6L1TUF|          1|            1|          4|   N|\n",
            "|R3OGH35QAB18N8|          5|            0|          0|   N|\n",
            "|R2BI6JOZCXO61I|          1|            0|          1|   N|\n",
            "|R2WWJMFU44E8CO|          5|            0|          0|   N|\n",
            "|R2LR3M8VWN13HH|          4|            0|          0|   N|\n",
            "| RBG8XYUWT0UJ3|          5|            0|          0|   N|\n",
            "|R1YU1O5ZCXX2Q4|          5|            0|          0|   N|\n",
            "|R2U7ZPF33TBK00|          5|            0|          0|   N|\n",
            "| R5GX50TOQMGDD|          5|            0|          0|   N|\n",
            "|R2NSUSVE5E52YW|          5|            0|          0|   N|\n",
            "| RUSBXQCNI8Z9Y|          5|            0|          0|   N|\n",
            "|R25PVGGC7ON158|          5|            0|          0|   N|\n",
            "|R2V0VUGHA6Y5EL|          5|            0|          0|   N|\n",
            "| R4VFPBBI41BH7|          5|            0|          0|   N|\n",
            "|R3ENAKI3M6J5GK|          5|            0|          0|   N|\n",
            "| RV2RYSEUXJVNJ|          5|            0|          0|   N|\n",
            "|R1WFO2PCV8JC5J|          2|            0|          0|   N|\n",
            "|  RSOCTE5UOODX|          5|            0|          0|   N|\n",
            "|R2S0DHV9M4EQ9W|          5|            0|          0|   N|\n",
            "+--------------+-----------+-------------+-----------+----+\n",
            "only showing top 20 rows\n",
            "\n"
          ],
          "name": "stdout"
        }
      ]
    },
    {
      "cell_type": "markdown",
      "metadata": {
        "id": "3QOqQrveODe8",
        "colab_type": "text"
      },
      "source": [
        "Push to RDS"
      ]
    },
    {
      "cell_type": "code",
      "metadata": {
        "id": "gYtNt-jLOCIf",
        "colab_type": "code",
        "colab": {}
      },
      "source": [
        " # Configure settings for RDS\n",
        "mode = \"append\"\n",
        "jdbc_url=\"jdbc:postgresql://mypostgresdb.ccavomop9z5f.us-east-1.rds.amazonaws.com:5432/my_data_class_db\"\n",
        "config = {\"user\":\"postgres\", \n",
        "          \"password\": \"\", \n",
        "          \"driver\":\"org.postgresql.Driver\"}"
      ],
      "execution_count": 0,
      "outputs": []
    },
    {
      "cell_type": "code",
      "metadata": {
        "id": "fiND51W4O6Cp",
        "colab_type": "code",
        "colab": {}
      },
      "source": [
        "# Table 1\n",
        "# Write DataFrame to review_id_table table in RDS\n",
        "review_id_df.write.jdbc(url=jdbc_url, table='review_id_table', mode=mode, properties=config)"
      ],
      "execution_count": 0,
      "outputs": []
    },
    {
      "cell_type": "code",
      "metadata": {
        "id": "-FospnXgPO-V",
        "colab_type": "code",
        "outputId": "dd32b68b-7939-41c7-b341-e8f363001063",
        "colab": {
          "base_uri": "https://localhost:8080/",
          "height": 55
        }
      },
      "source": [
        "review_id_df.head()"
      ],
      "execution_count": 0,
      "outputs": [
        {
          "output_type": "execute_result",
          "data": {
            "text/plain": [
              "Row(review_id='R1004PYTPK6ELD', customer_id='38281029', product_id='B00004WHWF', product_parent='89143877', review_date=datetime.date(2002, 1, 23))"
            ]
          },
          "metadata": {
            "tags": []
          },
          "execution_count": 27
        }
      ]
    },
    {
      "cell_type": "code",
      "metadata": {
        "id": "WF_CY869bnwP",
        "colab_type": "code",
        "colab": {}
      },
      "source": [
        "# Table 2\n",
        "# Write DataFrame to products table in RDS\n",
        "products_df.write.jdbc(url=jdbc_url, table='products', mode=mode, properties=config)"
      ],
      "execution_count": 0,
      "outputs": []
    },
    {
      "cell_type": "code",
      "metadata": {
        "id": "IlnV4mYs8tBw",
        "colab_type": "code",
        "colab": {}
      },
      "source": [
        "# Table 3\n",
        "# Write DataFrame to customers table in RDS\n",
        "customers_df.write.jdbc(url=jdbc_url, table='customers', mode=mode, properties=config)"
      ],
      "execution_count": 0,
      "outputs": []
    },
    {
      "cell_type": "code",
      "metadata": {
        "id": "Nb_9tWr_4MWp",
        "colab_type": "code",
        "colab": {}
      },
      "source": [
        "# Table 4\n",
        "# Write DataFrame to vine_table table in RDS\n",
        "vine_table_df.write.jdbc(url=jdbc_url, table='vine_table', mode=mode, properties=config)"
      ],
      "execution_count": 0,
      "outputs": []
    },
    {
      "cell_type": "code",
      "metadata": {
        "id": "8XzDSWeR5Vae",
        "colab_type": "code",
        "colab": {}
      },
      "source": [
        ""
      ],
      "execution_count": 0,
      "outputs": []
    }
  ]
}