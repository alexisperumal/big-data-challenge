{
  "nbformat": 4,
  "nbformat_minor": 0,
  "metadata": {
    "colab": {
      "name": "UCSD-HW22-L1-books.ipynb",
      "provenance": [],
      "collapsed_sections": [],
      "toc_visible": true
    },
    "kernelspec": {
      "name": "python3",
      "display_name": "Python 3"
    }
  },
  "cells": [
    {
      "cell_type": "markdown",
      "metadata": {
        "id": "psE1cHtbGwT8",
        "colab_type": "text"
      },
      "source": [
        "Alexis Perumal, 5/4/20\n",
        "HW22, Level 1 with help from Kevin Nguyen"
      ]
    },
    {
      "cell_type": "code",
      "metadata": {
        "id": "lEpRMEvHHgC-",
        "colab_type": "code",
        "colab": {}
      },
      "source": [
        "# Install Java, Spark, and Findspark\n",
        "!apt-get install openjdk-8-jdk-headless -qq > /dev/null\n",
        "!wget -q http://www-us.apache.org/dist/spark/spark-2.4.5/spark-2.4.5-bin-hadoop2.7.tgz\n",
        "!tar xf spark-2.4.5-bin-hadoop2.7.tgz\n",
        "!pip install -q findspark\n",
        "\n",
        "# Set Environment Variables\n",
        "import os\n",
        "os.environ[\"JAVA_HOME\"] = \"/usr/lib/jvm/java-8-openjdk-amd64\"\n",
        "os.environ[\"SPARK_HOME\"] = \"/content/spark-2.4.5-bin-hadoop2.7\"\n"
      ],
      "execution_count": 0,
      "outputs": []
    },
    {
      "cell_type": "code",
      "metadata": {
        "id": "qp6P9KovvZTF",
        "colab_type": "code",
        "colab": {}
      },
      "source": [
        "import findspark\n",
        "findspark.init()"
      ],
      "execution_count": 0,
      "outputs": []
    },
    {
      "cell_type": "markdown",
      "metadata": {
        "id": "CNsVhHqQtGEi",
        "colab_type": "text"
      },
      "source": [
        "# New Section"
      ]
    },
    {
      "cell_type": "code",
      "metadata": {
        "id": "aiiGGA8DHqKS",
        "colab_type": "code",
        "outputId": "69984b39-087d-437b-8733-cbd72082ab9e",
        "colab": {
          "base_uri": "https://localhost:8080/",
          "height": 207
        }
      },
      "source": [
        "!wget https://jdbc.postgresql.org/download/postgresql-42.2.9.jar"
      ],
      "execution_count": 3,
      "outputs": [
        {
          "output_type": "stream",
          "text": [
            "--2020-05-07 22:09:02--  https://jdbc.postgresql.org/download/postgresql-42.2.9.jar\n",
            "Resolving jdbc.postgresql.org (jdbc.postgresql.org)... 72.32.157.228, 2001:4800:3e1:1::228\n",
            "Connecting to jdbc.postgresql.org (jdbc.postgresql.org)|72.32.157.228|:443... connected.\n",
            "HTTP request sent, awaiting response... 200 OK\n",
            "Length: 914037 (893K) [application/java-archive]\n",
            "Saving to: ‘postgresql-42.2.9.jar’\n",
            "\n",
            "\rpostgresql-42.2.9.j   0%[                    ]       0  --.-KB/s               \rpostgresql-42.2.9.j  52%[=========>          ] 472.00K  2.25MB/s               \rpostgresql-42.2.9.j 100%[===================>] 892.61K  3.70MB/s    in 0.2s    \n",
            "\n",
            "2020-05-07 22:09:02 (3.70 MB/s) - ‘postgresql-42.2.9.jar’ saved [914037/914037]\n",
            "\n"
          ],
          "name": "stdout"
        }
      ]
    },
    {
      "cell_type": "code",
      "metadata": {
        "id": "oZA8GlnzH4OK",
        "colab_type": "code",
        "colab": {}
      },
      "source": [
        "from pyspark.sql import SparkSession\n",
        "spark = SparkSession.builder.appName(\"CloudETL\").config(\"spark.driver.extraClassPath\",\"/content/postgresql-42.2.9.jar\").getOrCreate()\n"
      ],
      "execution_count": 0,
      "outputs": []
    },
    {
      "cell_type": "code",
      "metadata": {
        "id": "vFp41RvBGaIM",
        "colab_type": "code",
        "outputId": "437375ec-b6d5-4844-c5d2-93edcf0a7f09",
        "colab": {
          "base_uri": "https://localhost:8080/",
          "height": 486
        }
      },
      "source": [
        "from pyspark import SparkFiles\n",
        "# url = \"https://s3.amazonaws.com/amazon-reviews-pds/tsv/amazon_reviews_us_Video_Games_v1_00.tsv.gz\"\n",
        "url = \"https://s3.amazonaws.com/amazon-reviews-pds/tsv/amazon_reviews_us_Books_v1_02.tsv.gz\"\n",
        "spark.sparkContext.addFile(url)\n",
        "category_df = spark.read.csv(SparkFiles.get(\"amazon_reviews_us_Books_v1_02.tsv.gz\"), sep=\"\\t\", header=True)\n",
        "category_df.show()"
      ],
      "execution_count": 37,
      "outputs": [
        {
          "output_type": "stream",
          "text": [
            "+-----------+-----------+--------------+----------+--------------+--------------------+----------------+-----------+-------------+-----------+----+-----------------+--------------------+--------------------+-----------+\n",
            "|marketplace|customer_id|     review_id|product_id|product_parent|       product_title|product_category|star_rating|helpful_votes|total_votes|vine|verified_purchase|     review_headline|         review_body|review_date|\n",
            "+-----------+-----------+--------------+----------+--------------+--------------------+----------------+-----------+-------------+-----------+----+-----------------+--------------------+--------------------+-----------+\n",
            "|         US|   12076615| RQ58W7SMO911M|0385730586|     122662979|Sisterhood of the...|           Books|          4|            2|          3|   N|                N|this book was a g...|this boook was a ...| 2005-10-14|\n",
            "|         US|   12703090|  RF6IUKMGL8SF|0811828964|      56191234|The Bad Girl's Gu...|           Books|          3|            5|          5|   N|                N|           Fun Fluff|If you are lookin...| 2005-10-14|\n",
            "|         US|   12257412|R1DOSHH6AI622S|1844161560|     253182049|Eisenhorn (A Warh...|           Books|          4|            1|         22|   N|                N| this isn't a review|never read it-a y...| 2005-10-14|\n",
            "|         US|   50732546| RATOTLA3OF70O|0373836635|     348672532|Colby Conspiracy ...|           Books|          5|            2|          2|   N|                N|fine author on he...|Though she is hon...| 2005-10-14|\n",
            "|         US|   51964897|R1TNWRKIVHVYOV|0262181533|     598678717|The Psychology of...|           Books|          4|            0|          2|   N|                N|Execellent cursor...|Review based on a...| 2005-10-14|\n",
            "|         US|   31048862|R2F53LI9KK9MOY|0316769487|     862964341|The Catcher in th...|           Books|          4|            2|          2|   N|                N|   Interesting, fun.|My only complaint...| 2005-10-14|\n",
            "|         US|   53000124|R1KJ6MB7MRSQFF|0805076069|     145341889|Bait and Switch: ...|           Books|          4|            9|         11|   N|                N|I viewed this the...|This book is chil...| 2005-10-14|\n",
            "|         US|   29732693|R2XIM9LT335WHE|1581603681|     640542054|Opening Combinati...|           Books|          4|            3|         10|   N|                N|No Frills - Just ...|When looking for ...| 2005-10-14|\n",
            "|         US|   48541186|R1VE0FQQ0QTQJN|0300108834|     915891133|A Little History ...|           Books|          5|           16|         20|   N|                Y|Simple, entertain...|Never been much f...| 2005-10-14|\n",
            "|         US|   15280864|R1VKEE2NWSWDRU|0446531081|     880645124|Hour Game (King &...|           Books|          4|            0|          0|   N|                N|        A good read!|If you enjoy a we...| 2005-10-14|\n",
            "|         US|   24209213|R2UP6XSVYJBJ2H|0976822105|     731931430|     Faith is a Verb|           Books|          5|            0|          0|   N|                N|Made me Question ...|I thoroughly enjo...| 2005-10-14|\n",
            "|         US|   52253037|R21SYDQ70ILUC0|1580085695|     586052746|Furry Logic: A Gu...|           Books|          5|            1|          1|   N|                Y|    The Perfect Gift|If you are stumpe...| 2005-10-14|\n",
            "|         US|   27925116| R7M06Z88PD7SX|0029148510|      72387289|Acts of War: Beha...|           Books|          4|           14|         14|   N|                N|Solid Book About ...|Whether intention...| 2005-10-14|\n",
            "|         US|   15005044| RRS38KZ4WB5O2|1592285570|     702385650|Temple to the Win...|           Books|          5|            1|          1|   N|                N|A riveting accoun...|Temple to the win...| 2005-10-14|\n",
            "|         US|   52534781|R2YDYRSLGNHPHR|0811848833|     102333549|The Star Wars Pos...|           Books|          4|           16|         19|   N|                Y|Comprehensive vis...|At last... a comp...| 2005-10-14|\n",
            "|         US|   26217071|R1BMPM18O6VZOR|0782144276|     971452783|Photoshop for Nat...|           Books|          4|           13|         14|   N|                N|          Great Book|I find \\\\\"Photosh...| 2005-10-14|\n",
            "|         US|   37684582|R1AABFZH0J0C0C|0375757996|     760991156|The Basic Works o...|           Books|          3|           17|         35|   N|                N|Problems with thi...|I love Aristotle ...| 2005-10-14|\n",
            "|         US|   45232107|R3SJYLG07EHNE9|013146308X|     332774292|The Pterosaurs: F...|           Books|          2|           16|         34|   N|                N|Warmed over lefto...|To his discredit,...| 2005-10-14|\n",
            "|         US|   15437121|R2TIO43ND87XVO|0375701907|     635714194|Straight Man: A N...|           Books|          5|            1|          1|   N|                N|       Funniest Book|Hands down, the f...| 2005-10-14|\n",
            "|         US|   52157117|R18TY4WD19OUAO|141378240X|     656010659|   Lipstick's Legacy|           Books|          5|            1|          1|   N|                N|          Great Work|I read this book ...| 2005-10-14|\n",
            "+-----------+-----------+--------------+----------+--------------+--------------------+----------------+-----------+-------------+-----------+----+-----------------+--------------------+--------------------+-----------+\n",
            "only showing top 20 rows\n",
            "\n"
          ],
          "name": "stdout"
        }
      ]
    },
    {
      "cell_type": "code",
      "metadata": {
        "id": "ID5dfQWtaWQQ",
        "colab_type": "code",
        "colab": {}
      },
      "source": [
        "from pyspark.sql.types import IntegerType\n",
        "category_df = category_df.withColumn(\"customer_id\", category_df[\"customer_id\"].cast(IntegerType()))\n",
        "category_df = category_df.withColumn(\"product_parent\", category_df[\"product_parent\"].cast(IntegerType()))\n",
        "category_df = category_df.withColumn(\"star_rating\", category_df[\"star_rating\"].cast(IntegerType()))\n",
        "category_df = category_df.withColumn(\"helpful_votes\", category_df[\"helpful_votes\"].cast(IntegerType()))\n",
        "category_df = category_df.withColumn(\"total_votes\", category_df[\"total_votes\"].cast(IntegerType()))"
      ],
      "execution_count": 0,
      "outputs": []
    },
    {
      "cell_type": "code",
      "metadata": {
        "id": "vbOPpE8wUksr",
        "colab_type": "code",
        "outputId": "0ae532a7-6031-44b4-f75e-f1df0792a4f7",
        "colab": {
          "base_uri": "https://localhost:8080/",
          "height": 35
        }
      },
      "source": [
        "# Count the number of rows\n",
        "category_df.count()"
      ],
      "execution_count": 39,
      "outputs": [
        {
          "output_type": "execute_result",
          "data": {
            "text/plain": [
              "3105520"
            ]
          },
          "metadata": {
            "tags": []
          },
          "execution_count": 39
        }
      ]
    },
    {
      "cell_type": "code",
      "metadata": {
        "id": "5EciW6YzS9nv",
        "colab_type": "code",
        "colab": {}
      },
      "source": [
        "# For development purposes, limit the size of the dataframe so things go quicker!\n",
        "# category_df = category_df.limit(1000)"
      ],
      "execution_count": 0,
      "outputs": []
    },
    {
      "cell_type": "code",
      "metadata": {
        "id": "FxRXqe9eX_41",
        "colab_type": "code",
        "outputId": "327fbb73-46b3-4a1f-ab99-79dd3d46f144",
        "colab": {
          "base_uri": "https://localhost:8080/",
          "height": 35
        }
      },
      "source": [
        "# Count the number of rows\n",
        "category_df.count()"
      ],
      "execution_count": 41,
      "outputs": [
        {
          "output_type": "execute_result",
          "data": {
            "text/plain": [
              "3105520"
            ]
          },
          "metadata": {
            "tags": []
          },
          "execution_count": 41
        }
      ]
    },
    {
      "cell_type": "code",
      "metadata": {
        "id": "d8bSk29cJegL",
        "colab_type": "code",
        "outputId": "3de4e6be-f3dc-42f5-ee9f-bcfe6d0fcfce",
        "colab": {
          "base_uri": "https://localhost:8080/",
          "height": 486
        }
      },
      "source": [
        "# Drop null values\n",
        "category_df = category_df.dropna()\n",
        "category_df.show()"
      ],
      "execution_count": 42,
      "outputs": [
        {
          "output_type": "stream",
          "text": [
            "+-----------+-----------+--------------+----------+--------------+--------------------+----------------+-----------+-------------+-----------+----+-----------------+--------------------+--------------------+-----------+\n",
            "|marketplace|customer_id|     review_id|product_id|product_parent|       product_title|product_category|star_rating|helpful_votes|total_votes|vine|verified_purchase|     review_headline|         review_body|review_date|\n",
            "+-----------+-----------+--------------+----------+--------------+--------------------+----------------+-----------+-------------+-----------+----+-----------------+--------------------+--------------------+-----------+\n",
            "|         US|   12076615| RQ58W7SMO911M|0385730586|     122662979|Sisterhood of the...|           Books|          4|            2|          3|   N|                N|this book was a g...|this boook was a ...| 2005-10-14|\n",
            "|         US|   12703090|  RF6IUKMGL8SF|0811828964|      56191234|The Bad Girl's Gu...|           Books|          3|            5|          5|   N|                N|           Fun Fluff|If you are lookin...| 2005-10-14|\n",
            "|         US|   12257412|R1DOSHH6AI622S|1844161560|     253182049|Eisenhorn (A Warh...|           Books|          4|            1|         22|   N|                N| this isn't a review|never read it-a y...| 2005-10-14|\n",
            "|         US|   50732546| RATOTLA3OF70O|0373836635|     348672532|Colby Conspiracy ...|           Books|          5|            2|          2|   N|                N|fine author on he...|Though she is hon...| 2005-10-14|\n",
            "|         US|   51964897|R1TNWRKIVHVYOV|0262181533|     598678717|The Psychology of...|           Books|          4|            0|          2|   N|                N|Execellent cursor...|Review based on a...| 2005-10-14|\n",
            "|         US|   31048862|R2F53LI9KK9MOY|0316769487|     862964341|The Catcher in th...|           Books|          4|            2|          2|   N|                N|   Interesting, fun.|My only complaint...| 2005-10-14|\n",
            "|         US|   53000124|R1KJ6MB7MRSQFF|0805076069|     145341889|Bait and Switch: ...|           Books|          4|            9|         11|   N|                N|I viewed this the...|This book is chil...| 2005-10-14|\n",
            "|         US|   29732693|R2XIM9LT335WHE|1581603681|     640542054|Opening Combinati...|           Books|          4|            3|         10|   N|                N|No Frills - Just ...|When looking for ...| 2005-10-14|\n",
            "|         US|   48541186|R1VE0FQQ0QTQJN|0300108834|     915891133|A Little History ...|           Books|          5|           16|         20|   N|                Y|Simple, entertain...|Never been much f...| 2005-10-14|\n",
            "|         US|   15280864|R1VKEE2NWSWDRU|0446531081|     880645124|Hour Game (King &...|           Books|          4|            0|          0|   N|                N|        A good read!|If you enjoy a we...| 2005-10-14|\n",
            "|         US|   24209213|R2UP6XSVYJBJ2H|0976822105|     731931430|     Faith is a Verb|           Books|          5|            0|          0|   N|                N|Made me Question ...|I thoroughly enjo...| 2005-10-14|\n",
            "|         US|   52253037|R21SYDQ70ILUC0|1580085695|     586052746|Furry Logic: A Gu...|           Books|          5|            1|          1|   N|                Y|    The Perfect Gift|If you are stumpe...| 2005-10-14|\n",
            "|         US|   27925116| R7M06Z88PD7SX|0029148510|      72387289|Acts of War: Beha...|           Books|          4|           14|         14|   N|                N|Solid Book About ...|Whether intention...| 2005-10-14|\n",
            "|         US|   15005044| RRS38KZ4WB5O2|1592285570|     702385650|Temple to the Win...|           Books|          5|            1|          1|   N|                N|A riveting accoun...|Temple to the win...| 2005-10-14|\n",
            "|         US|   52534781|R2YDYRSLGNHPHR|0811848833|     102333549|The Star Wars Pos...|           Books|          4|           16|         19|   N|                Y|Comprehensive vis...|At last... a comp...| 2005-10-14|\n",
            "|         US|   26217071|R1BMPM18O6VZOR|0782144276|     971452783|Photoshop for Nat...|           Books|          4|           13|         14|   N|                N|          Great Book|I find \\\\\"Photosh...| 2005-10-14|\n",
            "|         US|   37684582|R1AABFZH0J0C0C|0375757996|     760991156|The Basic Works o...|           Books|          3|           17|         35|   N|                N|Problems with thi...|I love Aristotle ...| 2005-10-14|\n",
            "|         US|   45232107|R3SJYLG07EHNE9|013146308X|     332774292|The Pterosaurs: F...|           Books|          2|           16|         34|   N|                N|Warmed over lefto...|To his discredit,...| 2005-10-14|\n",
            "|         US|   15437121|R2TIO43ND87XVO|0375701907|     635714194|Straight Man: A N...|           Books|          5|            1|          1|   N|                N|       Funniest Book|Hands down, the f...| 2005-10-14|\n",
            "|         US|   52157117|R18TY4WD19OUAO|141378240X|     656010659|   Lipstick's Legacy|           Books|          5|            1|          1|   N|                N|          Great Work|I read this book ...| 2005-10-14|\n",
            "+-----------+-----------+--------------+----------+--------------+--------------------+----------------+-----------+-------------+-----------+----+-----------------+--------------------+--------------------+-----------+\n",
            "only showing top 20 rows\n",
            "\n"
          ],
          "name": "stdout"
        }
      ]
    },
    {
      "cell_type": "code",
      "metadata": {
        "id": "leOBD2P4JMBW",
        "colab_type": "code",
        "outputId": "29ce5030-65cd-4b6f-eec1-0601ea448654",
        "colab": {
          "base_uri": "https://localhost:8080/",
          "height": 35
        }
      },
      "source": [
        "# Count the number of rows\n",
        "category_df.count()"
      ],
      "execution_count": 43,
      "outputs": [
        {
          "output_type": "execute_result",
          "data": {
            "text/plain": [
              "3105360"
            ]
          },
          "metadata": {
            "tags": []
          },
          "execution_count": 43
        }
      ]
    },
    {
      "cell_type": "code",
      "metadata": {
        "id": "4B-N1WlcLy-S",
        "colab_type": "code",
        "colab": {}
      },
      "source": [
        "# OOPS! Don't drop duplicates of the product ID here, do it specifically when building\n",
        "#.      the table 2 df.\n",
        "# # Drop duplicates\n",
        "# category_df = category_df.dropDuplicates(subset=['product_id'])\n",
        "# category_df.show()\n",
        "# category_df.count()"
      ],
      "execution_count": 0,
      "outputs": []
    },
    {
      "cell_type": "markdown",
      "metadata": {
        "id": "WyLvQAYf00KC",
        "colab_type": "text"
      },
      "source": [
        "Note the schema of the four tables:\n",
        "\n",
        "CREATE TABLE review_id_table (\n",
        "  review_id TEXT PRIMARY KEY NOT NULL,\n",
        "  customer_id INTEGER,\n",
        "  product_id TEXT,\n",
        "  product_parent INTEGER,\n",
        "  review_date DATE -- this should be in the formate yyyy-mm-dd\n",
        ");\n",
        "\n",
        "-- This table will contain only unique values\n",
        "CREATE TABLE products (\n",
        "  product_id TEXT PRIMARY KEY NOT NULL UNIQUE,\n",
        "  product_title TEXT\n",
        ");\n",
        "\n",
        "-- Customer table for first data set\n",
        "CREATE TABLE customers (\n",
        "  customer_id INT PRIMARY KEY NOT NULL UNIQUE,\n",
        "  customer_count INT\n",
        ");\n",
        "\n",
        "-- vine table\n",
        "CREATE TABLE vine_table (\n",
        "  review_id TEXT PRIMARY KEY,\n",
        "  star_rating INTEGER,\n",
        "  helpful_votes INTEGER,\n",
        "  total_votes INTEGER,\n",
        "  vine TEXT\n",
        ");\n"
      ]
    },
    {
      "cell_type": "code",
      "metadata": {
        "id": "n_gPG3ZLJk93",
        "colab_type": "code",
        "outputId": "b222ff37-3296-4c3f-b039-07bbda0d3962",
        "colab": {
          "base_uri": "https://localhost:8080/",
          "height": 466
        }
      },
      "source": [
        "# Build the Table 1, in PySpark: review_id_table\n",
        "\n",
        "from pyspark.sql.functions import to_date\n",
        "review_id_df = category_df.select([\"review_id\", \"customer_id\", \"product_id\", \"product_parent\", to_date(\"review_date\", 'yyyy-MM-dd').alias(\"review_date\")])\n",
        "review_id_df.show()"
      ],
      "execution_count": 45,
      "outputs": [
        {
          "output_type": "stream",
          "text": [
            "+--------------+-----------+----------+--------------+-----------+\n",
            "|     review_id|customer_id|product_id|product_parent|review_date|\n",
            "+--------------+-----------+----------+--------------+-----------+\n",
            "| RQ58W7SMO911M|   12076615|0385730586|     122662979| 2005-10-14|\n",
            "|  RF6IUKMGL8SF|   12703090|0811828964|      56191234| 2005-10-14|\n",
            "|R1DOSHH6AI622S|   12257412|1844161560|     253182049| 2005-10-14|\n",
            "| RATOTLA3OF70O|   50732546|0373836635|     348672532| 2005-10-14|\n",
            "|R1TNWRKIVHVYOV|   51964897|0262181533|     598678717| 2005-10-14|\n",
            "|R2F53LI9KK9MOY|   31048862|0316769487|     862964341| 2005-10-14|\n",
            "|R1KJ6MB7MRSQFF|   53000124|0805076069|     145341889| 2005-10-14|\n",
            "|R2XIM9LT335WHE|   29732693|1581603681|     640542054| 2005-10-14|\n",
            "|R1VE0FQQ0QTQJN|   48541186|0300108834|     915891133| 2005-10-14|\n",
            "|R1VKEE2NWSWDRU|   15280864|0446531081|     880645124| 2005-10-14|\n",
            "|R2UP6XSVYJBJ2H|   24209213|0976822105|     731931430| 2005-10-14|\n",
            "|R21SYDQ70ILUC0|   52253037|1580085695|     586052746| 2005-10-14|\n",
            "| R7M06Z88PD7SX|   27925116|0029148510|      72387289| 2005-10-14|\n",
            "| RRS38KZ4WB5O2|   15005044|1592285570|     702385650| 2005-10-14|\n",
            "|R2YDYRSLGNHPHR|   52534781|0811848833|     102333549| 2005-10-14|\n",
            "|R1BMPM18O6VZOR|   26217071|0782144276|     971452783| 2005-10-14|\n",
            "|R1AABFZH0J0C0C|   37684582|0375757996|     760991156| 2005-10-14|\n",
            "|R3SJYLG07EHNE9|   45232107|013146308X|     332774292| 2005-10-14|\n",
            "|R2TIO43ND87XVO|   15437121|0375701907|     635714194| 2005-10-14|\n",
            "|R18TY4WD19OUAO|   52157117|141378240X|     656010659| 2005-10-14|\n",
            "+--------------+-----------+----------+--------------+-----------+\n",
            "only showing top 20 rows\n",
            "\n"
          ],
          "name": "stdout"
        }
      ]
    },
    {
      "cell_type": "code",
      "metadata": {
        "id": "dNuYrwahKuy8",
        "colab_type": "code",
        "outputId": "10d8534a-e327-4b23-f275-72d1e0bc82ab",
        "colab": {
          "base_uri": "https://localhost:8080/",
          "height": 466
        }
      },
      "source": [
        "# Build the Table 2, in PySpark: products table\n",
        "\n",
        "# Extract products table info\n",
        "products_df = category_df.select([\"product_id\", \"product_title\"]).dropDuplicates(subset=['product_id'])\n",
        "products_df.show()"
      ],
      "execution_count": 46,
      "outputs": [
        {
          "output_type": "stream",
          "text": [
            "+----------+--------------------+\n",
            "|product_id|       product_title|\n",
            "+----------+--------------------+\n",
            "|0001714422|'C' Is for Clown ...|\n",
            "|0001837192|Pieter Brueghel's...|\n",
            "|0002005565|             Thieves|\n",
            "|0002151731|The Greatest Bene...|\n",
            "|0002216973|     Red Adam's Lady|\n",
            "|0002217236|       Running Blind|\n",
            "|000255111X|The Adventures of...|\n",
            "|0004708237|Collins Gem Shubu...|\n",
            "|0006544150|           In Xanadu|\n",
            "|000717201X|The Lord of the R...|\n",
            "|0007640617|Energize Your Lif...|\n",
            "|0020710518|Mud Soldiers: Lif...|\n",
            "|002075910X|Group Marriage;: ...|\n",
            "|0020960107|The Only Way to C...|\n",
            "|0023605103|Parables of Jesus...|\n",
            "|0025239716|The Baseball Chro...|\n",
            "|0025703811|Life on the Rim: ...|\n",
            "|0027182223|The CHIMES OF ALY...|\n",
            "|0027701808|             Dogsong|\n",
            "|0028610881|Complete Idiot's ...|\n",
            "+----------+--------------------+\n",
            "only showing top 20 rows\n",
            "\n"
          ],
          "name": "stdout"
        }
      ]
    },
    {
      "cell_type": "code",
      "metadata": {
        "id": "_JS55Dbl40lD",
        "colab_type": "code",
        "colab": {
          "base_uri": "https://localhost:8080/",
          "height": 35
        },
        "outputId": "e191b3d4-a88b-4716-f4b8-c233acad2cff"
      },
      "source": [
        "products_df.count()"
      ],
      "execution_count": 47,
      "outputs": [
        {
          "output_type": "execute_result",
          "data": {
            "text/plain": [
              "779717"
            ]
          },
          "metadata": {
            "tags": []
          },
          "execution_count": 47
        }
      ]
    },
    {
      "cell_type": "code",
      "metadata": {
        "id": "mH9B6BKmNM94",
        "colab_type": "code",
        "outputId": "d7f0fbd8-7d9d-4fba-e353-810ef8942831",
        "colab": {
          "base_uri": "https://localhost:8080/",
          "height": 466
        }
      },
      "source": [
        "# Build the Table 3, in PySpark: customers table\n",
        "import pyspark.sql.functions as sf\n",
        "\n",
        "customers_df = category_df.groupBy(\"customer_id\").agg(sf.count(\"product_id\").alias(\"customer_count\"))\n",
        "customers_df.show()"
      ],
      "execution_count": 48,
      "outputs": [
        {
          "output_type": "stream",
          "text": [
            "+-----------+--------------+\n",
            "|customer_id|customer_count|\n",
            "+-----------+--------------+\n",
            "|   28735044|             9|\n",
            "|   15607794|             1|\n",
            "|   15596972|             1|\n",
            "|   32371281|             2|\n",
            "|   12084021|             1|\n",
            "|   14462635|             1|\n",
            "|   41052840|             5|\n",
            "|   52068296|            94|\n",
            "|   51739623|             1|\n",
            "|   14544320|             1|\n",
            "|   50093726|           151|\n",
            "|   52925615|             1|\n",
            "|   12266315|             1|\n",
            "|   44917096|             1|\n",
            "|   52833886|             1|\n",
            "|   51854558|            57|\n",
            "|   12404586|             2|\n",
            "|   49850307|             8|\n",
            "|   23478170|             1|\n",
            "|   51088740|             1|\n",
            "+-----------+--------------+\n",
            "only showing top 20 rows\n",
            "\n"
          ],
          "name": "stdout"
        }
      ]
    },
    {
      "cell_type": "code",
      "metadata": {
        "id": "7ObT8B5gNN7o",
        "colab_type": "code",
        "outputId": "8cbdfaef-e99d-4018-d273-3c7bd1313cc8",
        "colab": {
          "base_uri": "https://localhost:8080/",
          "height": 466
        }
      },
      "source": [
        "# Build the Table 4, in PySpark: vine_table\n",
        "\n",
        "vine_table_df = category_df.select([\"review_id\", \"star_rating\", \"helpful_votes\", \"total_votes\",\n",
        "                                       \"vine\"])\n",
        "vine_table_df.show()"
      ],
      "execution_count": 49,
      "outputs": [
        {
          "output_type": "stream",
          "text": [
            "+--------------+-----------+-------------+-----------+----+\n",
            "|     review_id|star_rating|helpful_votes|total_votes|vine|\n",
            "+--------------+-----------+-------------+-----------+----+\n",
            "| RQ58W7SMO911M|          4|            2|          3|   N|\n",
            "|  RF6IUKMGL8SF|          3|            5|          5|   N|\n",
            "|R1DOSHH6AI622S|          4|            1|         22|   N|\n",
            "| RATOTLA3OF70O|          5|            2|          2|   N|\n",
            "|R1TNWRKIVHVYOV|          4|            0|          2|   N|\n",
            "|R2F53LI9KK9MOY|          4|            2|          2|   N|\n",
            "|R1KJ6MB7MRSQFF|          4|            9|         11|   N|\n",
            "|R2XIM9LT335WHE|          4|            3|         10|   N|\n",
            "|R1VE0FQQ0QTQJN|          5|           16|         20|   N|\n",
            "|R1VKEE2NWSWDRU|          4|            0|          0|   N|\n",
            "|R2UP6XSVYJBJ2H|          5|            0|          0|   N|\n",
            "|R21SYDQ70ILUC0|          5|            1|          1|   N|\n",
            "| R7M06Z88PD7SX|          4|           14|         14|   N|\n",
            "| RRS38KZ4WB5O2|          5|            1|          1|   N|\n",
            "|R2YDYRSLGNHPHR|          4|           16|         19|   N|\n",
            "|R1BMPM18O6VZOR|          4|           13|         14|   N|\n",
            "|R1AABFZH0J0C0C|          3|           17|         35|   N|\n",
            "|R3SJYLG07EHNE9|          2|           16|         34|   N|\n",
            "|R2TIO43ND87XVO|          5|            1|          1|   N|\n",
            "|R18TY4WD19OUAO|          5|            1|          1|   N|\n",
            "+--------------+-----------+-------------+-----------+----+\n",
            "only showing top 20 rows\n",
            "\n"
          ],
          "name": "stdout"
        }
      ]
    },
    {
      "cell_type": "markdown",
      "metadata": {
        "id": "3QOqQrveODe8",
        "colab_type": "text"
      },
      "source": [
        "Push to RDS"
      ]
    },
    {
      "cell_type": "code",
      "metadata": {
        "id": "gYtNt-jLOCIf",
        "colab_type": "code",
        "colab": {}
      },
      "source": [
        " # Configure settings for RDS\n",
        "mode = \"append\"\n",
        "jdbc_url=\"jdbc:postgresql://mypostgresdb.ccavomop9z5f.us-east-1.rds.amazonaws.com:5432/my_data_class_db\"\n",
        "config = {\"user\":\"postgres\", \n",
        "          \"password\": \"\",\n",
        "          \"driver\":\"org.postgresql.Driver\"}"
      ],
      "execution_count": 0,
      "outputs": []
    },
    {
      "cell_type": "code",
      "metadata": {
        "id": "fiND51W4O6Cp",
        "colab_type": "code",
        "colab": {}
      },
      "source": [
        "# Table 1\n",
        "# Write DataFrame to review_id_table table in RDS\n",
        "review_id_df.write.jdbc(url=jdbc_url, table='review_id_table', mode=mode, properties=config)"
      ],
      "execution_count": 0,
      "outputs": []
    },
    {
      "cell_type": "code",
      "metadata": {
        "id": "-FospnXgPO-V",
        "colab_type": "code",
        "outputId": "a2137a64-6de7-43eb-d9aa-cb37f5899fb2",
        "colab": {
          "base_uri": "https://localhost:8080/",
          "height": 55
        }
      },
      "source": [
        "review_id_df.head()"
      ],
      "execution_count": 55,
      "outputs": [
        {
          "output_type": "execute_result",
          "data": {
            "text/plain": [
              "Row(review_id='RQ58W7SMO911M', customer_id=12076615, product_id='0385730586', product_parent=122662979, review_date=datetime.date(2005, 10, 14))"
            ]
          },
          "metadata": {
            "tags": []
          },
          "execution_count": 55
        }
      ]
    },
    {
      "cell_type": "code",
      "metadata": {
        "id": "WF_CY869bnwP",
        "colab_type": "code",
        "colab": {}
      },
      "source": [
        "# Table 2\n",
        "# Write DataFrame to products table in RDS\n",
        "products_df.write.jdbc(url=jdbc_url, table='products', mode=mode, properties=config)"
      ],
      "execution_count": 0,
      "outputs": []
    },
    {
      "cell_type": "code",
      "metadata": {
        "id": "IlnV4mYs8tBw",
        "colab_type": "code",
        "colab": {}
      },
      "source": [
        "# Table 3 - Don't push this table since this is the second dataset.\n",
        "# Write DataFrame to customers table in RDS\n",
        "# customers_df.write.jdbc(url=jdbc_url, table='customers', mode=mode, properties=config)"
      ],
      "execution_count": 0,
      "outputs": []
    },
    {
      "cell_type": "code",
      "metadata": {
        "id": "Nb_9tWr_4MWp",
        "colab_type": "code",
        "colab": {}
      },
      "source": [
        "# Table 4\n",
        "# Write DataFrame to vine_table table in RDS\n",
        "vine_table_df.write.jdbc(url=jdbc_url, table='vine_table', mode=mode, properties=config)"
      ],
      "execution_count": 0,
      "outputs": []
    },
    {
      "cell_type": "code",
      "metadata": {
        "id": "8XzDSWeR5Vae",
        "colab_type": "code",
        "colab": {}
      },
      "source": [
        ""
      ],
      "execution_count": 0,
      "outputs": []
    }
  ]
}